{
 "cells": [
  {
   "cell_type": "markdown",
   "id": "e9c0588f",
   "metadata": {},
   "source": [
    "The following code is an implementation of the Value class from the tutorial, based on memory and understanding."
   ]
  },
  {
   "cell_type": "code",
   "execution_count": null,
   "id": "353b5172",
   "metadata": {},
   "outputs": [],
   "source": [
    "# introduction\n",
    "\n",
    "a = 2.0\n",
    "b = -3.5\n",
    "c = 9.0\n",
    "d = 1.5\n",
    "e =  a + b\n",
    "f = c*e\n",
    "L = f + d\n",
    "\n",
    "# Essentially what backproppagation does is \n",
    "# evaluating the derivative of L with respect to\n",
    "# its constituent variables, i.e. a, b, c, d, e, f"
   ]
  },
  {
   "cell_type": "markdown",
   "id": "ee56eb1f",
   "metadata": {},
   "source": [
    "To start, a Value class has to be created to store floats, and to allow extra operations on the specific value"
   ]
  },
  {
   "cell_type": "code",
   "execution_count": null,
   "id": "39f4c205",
   "metadata": {},
   "outputs": [],
   "source": []
  }
 ],
 "metadata": {
  "kernelspec": {
   "display_name": "Python 3",
   "language": "python",
   "name": "python3"
  },
  "language_info": {
   "codemirror_mode": {
    "name": "ipython",
    "version": 3
   },
   "file_extension": ".py",
   "mimetype": "text/x-python",
   "name": "python",
   "nbconvert_exporter": "python",
   "pygments_lexer": "ipython3",
   "version": "3.12.1"
  }
 },
 "nbformat": 4,
 "nbformat_minor": 5
}
